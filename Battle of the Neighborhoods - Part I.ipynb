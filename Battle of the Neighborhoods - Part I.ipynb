{
    "nbformat_minor": 1, 
    "cells": [
        {
            "source": "# Finding relaxation in the city", 
            "cell_type": "markdown", 
            "metadata": {
                "collapsed": true
            }
        }, 
        {
            "source": "In Ancient times, Romans practiced bathing and enjoyed the rejuvenating waters in magnificent thermal facilities like the Baths of Caracalla in Rome, and many others widely available across the Roman Empire and visited on a daily basis.\n\nToday, finding relaxation in the city can be tricky. No wonder the urban Spa industry is booming, as a growing population of affluent professionals and wealthy individuals seek to relax in the wellness facilities at their doorstep.", 
            "cell_type": "markdown", 
            "metadata": {}
        }, 
        {
            "source": "## Description of the business problem ", 
            "cell_type": "markdown", 
            "metadata": {}
        }, 
        {
            "source": "Our target audience are companies and entrepreneurs targeting the wellness market, who are looking at opening new spas in New York City and also looking for opportunities to expand internationally.\n\nWhile for Ancient Romans, bathing was very popular across a wide variety of social classes, the Spas of today are surrounded by an aura of luxury. But is that really true or just a perception? Are all the spas in wealthy areas or can we find successful spas operating in less affluent areas?\n\nWe will first explore the spa market in [New York City, the wealthiest city in the world](https://www.visualcapitalist.com/top-15-cities-globally-hold-24-trillion-wealth/), home to the two largest stock exchanges in the world (NYSE and NASDAQ). Its wealth, including all assets (property, cash, equities, business interests) less any liabilities, has been valued at $3,000B, not including areas around New York, like Connecticut and Long Island, that also contain a large amount of wealth.\n\n+ Does the market penetration of spas depend on the neighborhood and its wealth?\n+ How does the presence of spas go hand in hand with other luxury venues like hotels, restaurants and nighlife spots? \n+ Can Data Science predict areas in New York City where spas can be successful, but are not yet saturated with existing spas?\n\nWe will then travel to London, home to the 6th largest stock excange in the world and one of the highest concentrations of high net work individuals (HNWI). [London wealth has been valued at $2,700B](https://www.visualcapitalist.com/top-15-cities-globally-hold-24-trillion-wealth/), not including small towns around London which also contain a large amount of wealth, like Windsor, Ascot, Virginia Water, Leatherhead, Weybridge, Henley, Marlow and Bray. \n\nHow similar are the spa markets in New York City and London? Do the lessons learned from the data insights in New York apply also to London?\n\nFinally, we will explore a wide range of cities worldwide to understand:\n+ are there different levels of spa market saturation?\n+ how does the presence of spas go hand in hand with a city's economy and other dimensions of cities development?\n+ which are the cities with most potential for new spa ventures? ", 
            "cell_type": "markdown", 
            "metadata": {}
        }, 
        {
            "source": "## Data description", 
            "cell_type": "markdown", 
            "metadata": {}
        }, 
        {
            "source": "#### Foursquare API\nWe will use Foursquare RESTful API to get the geographical coordinates (latitude and longitude) of spas and other venue types in New York City, London and the other cities we will explore. \n\n[Foursquare](https://foursquare.com) is an American technology company. Their location platform is the foundation of several business and consumer products, including the Foursquare City Guide app. In both November 2017 and November 2018, Foursquare made it into Deloitte\u2019s Fast 500 list of the fastest-growing technology companies. We will use [Foursquare Venue Category Hierarchy](https://developer.foursquare.com/docs/resources/categories) in our analysis to correlate the presence of spas to other categories of luxury venues.\n\n#### Open Data for New York City and London\nWe will use [NYC Open Data](https://opendata.cityofnewyork.us) and [LONDON DATASTORE](https://data.london.gov.uk) to access open data for our research on the different neighborhoods of both cities. \n\nWe will start our research by using housing market indicators as a proxy measure for the wealth of different neighborhoods:\n+ [Summary of Neighborhood Sales for Manhattan](https://data.cityofnewyork.us/Housing-Development/DOF-Summary-of-Neighborhood-Sales-for-Manhattan-fo/5yay-3jd5n) by NYC Department of Finance\n+ [The Economics of London Housing Market](https://data.london.gov.uk/dataset/london-housing).\n\n#### IESE Cities in Motion Index\nWe will apply the insights and data from the [IESE Cities in Motion Index research](https://www.iese.edu/faculty-research/cities-in-motion/) to guide our cross-city data analysis. \n\nIESE Business School ranked 12th in the [FT's 2019 Global MBA ranking](http://rankings.ft.com/businessschoolrankings/iese-business-school), and with this research platform they aim since 2014 to contribute to a better understanding of the reality of cities by providing an objective, wide-ranging and holistic index that covers different key dimensions of metropolises. The nine main dimensions of their model are human capital, social cohesion, the economy, public management, governance, the environment, mobility and transportation, urban planning, international outreach, and technology.\n\n#### OECD Stat\nData Science Methodology is a circular process, and it is to be expected that additional data may be needed to answer the questions that arise during the research. \n\nIf needed, we will use the Open Data provided by the Organisation for Economic Co-operation and Development (OECD)\n[OECD.Stat](https://stats.oecd.org/Index.aspx?DataSetCode=CITIES) provides extensive statistics on the world's regions, cities and metropolitan areas with a wide range of indicators on population, the economy labor, income distribution and the environment.\n\n", 
            "cell_type": "markdown", 
            "metadata": {}
        }
    ], 
    "metadata": {
        "kernelspec": {
            "display_name": "Python 3.6", 
            "name": "python3", 
            "language": "python"
        }, 
        "language_info": {
            "mimetype": "text/x-python", 
            "nbconvert_exporter": "python", 
            "version": "3.6.8", 
            "name": "python", 
            "file_extension": ".py", 
            "pygments_lexer": "ipython3", 
            "codemirror_mode": {
                "version": 3, 
                "name": "ipython"
            }
        }
    }, 
    "nbformat": 4
}