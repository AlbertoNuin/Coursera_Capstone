{
    "nbformat_minor": 1, 
    "cells": [
        {
            "source": "# Battle of the Neighborhoods - DRAFT", 
            "cell_type": "markdown", 
            "metadata": {
                "collapsed": true
            }
        }, 
        {
            "execution_count": 6, 
            "cell_type": "code", 
            "metadata": {}, 
            "outputs": [
                {
                    "output_type": "stream", 
                    "name": "stdout", 
                    "text": "Solving environment: done\n\n# All requested packages already installed.\n\n"
                }
            ], 
            "source": "!conda install -c conda-forge geopy --yes\nfrom geopy.geocoders import Nominatim"
        }, 
        {
            "source": "## Research: List top world cities by population", 
            "cell_type": "markdown", 
            "metadata": {}
        }, 
        {
            "execution_count": 43, 
            "cell_type": "code", 
            "metadata": {}, 
            "outputs": [], 
            "source": "import requests\nfrom bs4 import BeautifulSoup\nimport pandas as pd\nimport numpy as np\nfrom pandas.io.json import json_normalize"
        }, 
        {
            "execution_count": 69, 
            "cell_type": "code", 
            "metadata": {}, 
            "outputs": [
                {
                    "output_type": "stream", 
                    "name": "stdout", 
                    "text": "Dataframe shape:  (20, 6)\n"
                }, 
                {
                    "execution_count": 69, 
                    "metadata": {}, 
                    "data": {
                        "text/html": "<div>\n<style scoped>\n    .dataframe tbody tr th:only-of-type {\n        vertical-align: middle;\n    }\n\n    .dataframe tbody tr th {\n        vertical-align: top;\n    }\n\n    .dataframe thead th {\n        text-align: right;\n    }\n</style>\n<table border=\"1\" class=\"dataframe\">\n  <thead>\n    <tr style=\"text-align: right;\">\n      <th></th>\n      <th>Rank</th>\n      <th>City</th>\n      <th>Population</th>\n      <th>Total area (km2)</th>\n      <th>Population density (/km2)</th>\n      <th>Country</th>\n    </tr>\n  </thead>\n  <tbody>\n    <tr>\n      <th>1</th>\n      <td>1</td>\n      <td>Chongqing</td>\n      <td>30165500</td>\n      <td>82403.0</td>\n      <td>366</td>\n      <td>China</td>\n    </tr>\n    <tr>\n      <th>2</th>\n      <td>2</td>\n      <td>Shanghai</td>\n      <td>24183300</td>\n      <td>6340.5</td>\n      <td>3814</td>\n      <td>China</td>\n    </tr>\n    <tr>\n      <th>3</th>\n      <td>3</td>\n      <td>Beijing</td>\n      <td>21707000</td>\n      <td>16411.0</td>\n      <td>1267</td>\n      <td>China</td>\n    </tr>\n    <tr>\n      <th>4</th>\n      <td>4</td>\n      <td>Istanbul</td>\n      <td>15029231</td>\n      <td>5196.0</td>\n      <td>2893</td>\n      <td>Turkey</td>\n    </tr>\n    <tr>\n      <th>5</th>\n      <td>5</td>\n      <td>Karachi</td>\n      <td>14910352</td>\n      <td>3780.0</td>\n      <td>3944</td>\n      <td>Pakistan</td>\n    </tr>\n  </tbody>\n</table>\n</div>", 
                        "text/plain": "   Rank       City  Population  Total area (km2)  Population density (/km2)  \\\n1     1  Chongqing    30165500           82403.0                        366   \n2     2   Shanghai    24183300            6340.5                       3814   \n3     3    Beijing    21707000           16411.0                       1267   \n4     4   Istanbul    15029231            5196.0                       2893   \n5     5    Karachi    14910352            3780.0                       3944   \n\n    Country  \n1     China  \n2     China  \n3     China  \n4    Turkey  \n5  Pakistan  "
                    }, 
                    "output_type": "execute_result"
                }
            ], 
            "source": "#Parse the list of top world cities by popuylation from Wikipedia and clean data into pandas dataframe\nurl = 'https://en.wikipedia.org/wiki/List_of_cities_proper_by_population'\nsauce = requests.get(url).text\nsoup = BeautifulSoup(sauce, 'lxml')\ntables = [[[td.get_text(strip=True)\n           for td in tr.find_all('td')]\n           for tr in table.find_all('tr')]\n         for table in soup.find_all('table')]\nworld_cities = tables[1]\ndf = pd.DataFrame(world_cities, \n                 columns =['Rank', 'City', 'Image', 'Population', 'Definition', 'Total area (km2)', 'Population density (/km2)', 'Country'])\n#Remove unnecessary row with no values\ndf.drop(df.index[0], inplace=True)\n#Remove unnecessary columns with no useful information\ndf.drop(columns = ['Image', 'Definition'], inplace=True)\n#Remove [references to footnotes] from dataframe using regex\nfor column in df.columns:\n    df[column] = df[column].str.replace(r\"\\[.*]\",\"\")\n#Remove commas from columns containig numbers using regex and convert type to numeric\nNumberColumns = ['Rank', 'Population', 'Total area (km2)', 'Population density (/km2)']\nfor column in NumberColumns:\n    df[column] = pd.to_numeric(df[column].str.replace(\",\",\"\"))\n#Select the top 20 world cities by population\ndf = df.nlargest(20, 'Population')\nprint('Dataframe shape: ',df.shape)\ndf.head()"
        }, 
        {
            "execution_count": 70, 
            "cell_type": "code", 
            "metadata": {}, 
            "outputs": [
                {
                    "execution_count": 70, 
                    "metadata": {}, 
                    "data": {
                        "text/html": "<div>\n<style scoped>\n    .dataframe tbody tr th:only-of-type {\n        vertical-align: middle;\n    }\n\n    .dataframe tbody tr th {\n        vertical-align: top;\n    }\n\n    .dataframe thead th {\n        text-align: right;\n    }\n</style>\n<table border=\"1\" class=\"dataframe\">\n  <thead>\n    <tr style=\"text-align: right;\">\n      <th></th>\n      <th>Rank</th>\n      <th>City</th>\n      <th>Population</th>\n      <th>Total area (km2)</th>\n      <th>Population density (/km2)</th>\n      <th>Country</th>\n      <th>Lat</th>\n      <th>Lng</th>\n    </tr>\n  </thead>\n  <tbody>\n    <tr>\n      <th>1</th>\n      <td>1</td>\n      <td>Chongqing</td>\n      <td>30165500</td>\n      <td>82403.0</td>\n      <td>366</td>\n      <td>China</td>\n      <td>29.5586</td>\n      <td>106.549</td>\n    </tr>\n    <tr>\n      <th>2</th>\n      <td>2</td>\n      <td>Shanghai</td>\n      <td>24183300</td>\n      <td>6340.5</td>\n      <td>3814</td>\n      <td>China</td>\n      <td>31.2253</td>\n      <td>121.489</td>\n    </tr>\n    <tr>\n      <th>3</th>\n      <td>3</td>\n      <td>Beijing</td>\n      <td>21707000</td>\n      <td>16411.0</td>\n      <td>1267</td>\n      <td>China</td>\n      <td>39.9062</td>\n      <td>116.391</td>\n    </tr>\n    <tr>\n      <th>4</th>\n      <td>4</td>\n      <td>Istanbul</td>\n      <td>15029231</td>\n      <td>5196.0</td>\n      <td>2893</td>\n      <td>Turkey</td>\n      <td>41.0096</td>\n      <td>28.9652</td>\n    </tr>\n    <tr>\n      <th>5</th>\n      <td>5</td>\n      <td>Karachi</td>\n      <td>14910352</td>\n      <td>3780.0</td>\n      <td>3944</td>\n      <td>Pakistan</td>\n      <td>25.1447</td>\n      <td>67.1848</td>\n    </tr>\n  </tbody>\n</table>\n</div>", 
                        "text/plain": "   Rank       City  Population  Total area (km2)  Population density (/km2)  \\\n1     1  Chongqing    30165500           82403.0                        366   \n2     2   Shanghai    24183300            6340.5                       3814   \n3     3    Beijing    21707000           16411.0                       1267   \n4     4   Istanbul    15029231            5196.0                       2893   \n5     5    Karachi    14910352            3780.0                       3944   \n\n    Country      Lat      Lng  \n1     China  29.5586  106.549  \n2     China  31.2253  121.489  \n3     China  39.9062  116.391  \n4    Turkey  41.0096  28.9652  \n5  Pakistan  25.1447  67.1848  "
                    }, 
                    "output_type": "execute_result"
                }
            ], 
            "source": "# Get geographical coordinates for each city\ngeolocator = Nominatim(user_agent = 'foursquare_agent')\ndf['Lat'] = None\ndf['Lng'] = None\nfor i in range(0, len(df), 1):\n    location = geolocator.geocode(df.iat[i,1])\n    try:\n        lat = location.latitude\n        lng = location.longitude\n        df.iat[i, df.columns.get_loc('Lat')] = lat\n        df.iat[i, df.columns.get_loc('Lng')] = lng\n    except:\n      lat = None\n      lon = None\n        \ndf.head()"
        }, 
        {
            "execution_count": 76, 
            "cell_type": "code", 
            "metadata": {}, 
            "outputs": [
                {
                    "execution_count": 76, 
                    "metadata": {}, 
                    "data": {
                        "text/html": "<div>\n<style scoped>\n    .dataframe tbody tr th:only-of-type {\n        vertical-align: middle;\n    }\n\n    .dataframe tbody tr th {\n        vertical-align: top;\n    }\n\n    .dataframe thead th {\n        text-align: right;\n    }\n</style>\n<table border=\"1\" class=\"dataframe\">\n  <thead>\n    <tr style=\"text-align: right;\">\n      <th></th>\n      <th>Rank</th>\n      <th>City</th>\n      <th>Population</th>\n      <th>Total area (km2)</th>\n      <th>Population density (/km2)</th>\n      <th>Country</th>\n      <th>Lat</th>\n      <th>Lng</th>\n      <th>Radius</th>\n      <th>Spas</th>\n    </tr>\n  </thead>\n  <tbody>\n    <tr>\n      <th>1</th>\n      <td>1</td>\n      <td>Chongqing</td>\n      <td>30165500</td>\n      <td>82403.0</td>\n      <td>366</td>\n      <td>China</td>\n      <td>29.5586</td>\n      <td>106.549</td>\n      <td>162.0</td>\n      <td>8</td>\n    </tr>\n    <tr>\n      <th>2</th>\n      <td>2</td>\n      <td>Shanghai</td>\n      <td>24183300</td>\n      <td>6340.5</td>\n      <td>3814</td>\n      <td>China</td>\n      <td>31.2253</td>\n      <td>121.489</td>\n      <td>45.0</td>\n      <td>100</td>\n    </tr>\n    <tr>\n      <th>3</th>\n      <td>3</td>\n      <td>Beijing</td>\n      <td>21707000</td>\n      <td>16411.0</td>\n      <td>1267</td>\n      <td>China</td>\n      <td>39.9062</td>\n      <td>116.391</td>\n      <td>72.0</td>\n      <td>45</td>\n    </tr>\n    <tr>\n      <th>4</th>\n      <td>4</td>\n      <td>Istanbul</td>\n      <td>15029231</td>\n      <td>5196.0</td>\n      <td>2893</td>\n      <td>Turkey</td>\n      <td>41.0096</td>\n      <td>28.9652</td>\n      <td>41.0</td>\n      <td>100</td>\n    </tr>\n    <tr>\n      <th>5</th>\n      <td>5</td>\n      <td>Karachi</td>\n      <td>14910352</td>\n      <td>3780.0</td>\n      <td>3944</td>\n      <td>Pakistan</td>\n      <td>25.1447</td>\n      <td>67.1848</td>\n      <td>35.0</td>\n      <td>0</td>\n    </tr>\n  </tbody>\n</table>\n</div>", 
                        "text/plain": "   Rank       City  Population  Total area (km2)  Population density (/km2)  \\\n1     1  Chongqing    30165500           82403.0                        366   \n2     2   Shanghai    24183300            6340.5                       3814   \n3     3    Beijing    21707000           16411.0                       1267   \n4     4   Istanbul    15029231            5196.0                       2893   \n5     5    Karachi    14910352            3780.0                       3944   \n\n    Country      Lat      Lng  Radius Spas  \n1     China  29.5586  106.549   162.0    8  \n2     China  31.2253  121.489    45.0  100  \n3     China  39.9062  116.391    72.0   45  \n4    Turkey  41.0096  28.9652    41.0  100  \n5  Pakistan  25.1447  67.1848    35.0    0  "
                    }, 
                    "output_type": "execute_result"
                }
            ], 
            "source": "df['Radius']= round(np.sqrt(df['Total area (km2)']/np.pi),0)\ndf.head()"
        }, 
        {
            "source": "# Foursquare", 
            "cell_type": "markdown", 
            "metadata": {}
        }, 
        {
            "execution_count": 72, 
            "cell_type": "code", 
            "metadata": {}, 
            "outputs": [], 
            "source": "# The code was removed by Watson Studio for sharing."
        }, 
        {
            "execution_count": 82, 
            "cell_type": "code", 
            "metadata": {}, 
            "outputs": [
                {
                    "output_type": "stream", 
                    "name": "stdout", 
                    "text": "100\n"
                }
            ], 
            "source": "location = geolocator.geocode('New York')\nlatitude = location.latitude\nlongitude = location.longitude\nradius = 10000\nsearch_query = 'Gastropub'\nurl = 'https://api.foursquare.com/v2/venues/explore?client_id={}&client_secret={}&ll={},{}&v={}&query={}&radius={}&limit={}'.format(CLIENT_ID, CLIENT_SECRET, latitude, longitude, VERSION, search_query, radius, LIMIT)\nresults = requests.get(url).json()\nitems = results['response']['groups'][0]['items']\nprint(len(items))"
        }, 
        {
            "execution_count": 78, 
            "cell_type": "code", 
            "metadata": {}, 
            "outputs": [
                {
                    "execution_count": 78, 
                    "metadata": {}, 
                    "data": {
                        "text/html": "<div>\n<style scoped>\n    .dataframe tbody tr th:only-of-type {\n        vertical-align: middle;\n    }\n\n    .dataframe tbody tr th {\n        vertical-align: top;\n    }\n\n    .dataframe thead th {\n        text-align: right;\n    }\n</style>\n<table border=\"1\" class=\"dataframe\">\n  <thead>\n    <tr style=\"text-align: right;\">\n      <th></th>\n      <th>Rank</th>\n      <th>City</th>\n      <th>Population</th>\n      <th>Total area (km2)</th>\n      <th>Population density (/km2)</th>\n      <th>Country</th>\n      <th>Lat</th>\n      <th>Lng</th>\n      <th>Radius</th>\n      <th>Spas</th>\n    </tr>\n  </thead>\n  <tbody>\n    <tr>\n      <th>1</th>\n      <td>1</td>\n      <td>Chongqing</td>\n      <td>30165500</td>\n      <td>82403.0</td>\n      <td>366</td>\n      <td>China</td>\n      <td>29.5586</td>\n      <td>106.549</td>\n      <td>162.0</td>\n      <td>7</td>\n    </tr>\n    <tr>\n      <th>2</th>\n      <td>2</td>\n      <td>Shanghai</td>\n      <td>24183300</td>\n      <td>6340.5</td>\n      <td>3814</td>\n      <td>China</td>\n      <td>31.2253</td>\n      <td>121.489</td>\n      <td>45.0</td>\n      <td>84</td>\n    </tr>\n    <tr>\n      <th>3</th>\n      <td>3</td>\n      <td>Beijing</td>\n      <td>21707000</td>\n      <td>16411.0</td>\n      <td>1267</td>\n      <td>China</td>\n      <td>39.9062</td>\n      <td>116.391</td>\n      <td>72.0</td>\n      <td>18</td>\n    </tr>\n    <tr>\n      <th>4</th>\n      <td>4</td>\n      <td>Istanbul</td>\n      <td>15029231</td>\n      <td>5196.0</td>\n      <td>2893</td>\n      <td>Turkey</td>\n      <td>41.0096</td>\n      <td>28.9652</td>\n      <td>41.0</td>\n      <td>100</td>\n    </tr>\n    <tr>\n      <th>5</th>\n      <td>5</td>\n      <td>Karachi</td>\n      <td>14910352</td>\n      <td>3780.0</td>\n      <td>3944</td>\n      <td>Pakistan</td>\n      <td>25.1447</td>\n      <td>67.1848</td>\n      <td>35.0</td>\n      <td>0</td>\n    </tr>\n  </tbody>\n</table>\n</div>", 
                        "text/plain": "   Rank       City  Population  Total area (km2)  Population density (/km2)  \\\n1     1  Chongqing    30165500           82403.0                        366   \n2     2   Shanghai    24183300            6340.5                       3814   \n3     3    Beijing    21707000           16411.0                       1267   \n4     4   Istanbul    15029231            5196.0                       2893   \n5     5    Karachi    14910352            3780.0                       3944   \n\n    Country      Lat      Lng  Radius Spas  \n1     China  29.5586  106.549   162.0    7  \n2     China  31.2253  121.489    45.0   84  \n3     China  39.9062  116.391    72.0   18  \n4    Turkey  41.0096  28.9652    41.0  100  \n5  Pakistan  25.1447  67.1848    35.0    0  "
                    }, 
                    "output_type": "execute_result"
                }
            ], 
            "source": "# Get hotels for each city\ndf['Spas'] = None\nfor i in range(0, len(df), 1):\n    location = geolocator.geocode(df.iat[i,1])\n    latitude = df.iat[i,6]\n    longitude = df.iat[i,7]\n    radius_query = 5000\n    search_query = 'Spa'\n    url = 'https://api.foursquare.com/v2/venues/explore?client_id={}&client_secret={}&ll={},{}&v={}&query={}&radius={}&limit={}'.format(CLIENT_ID, CLIENT_SECRET, latitude, longitude, VERSION, search_query, radius_query, LIMIT)\n    results = requests.get(url).json()\n    items = results['response']['groups'][0]['items']\n    try:\n        search_items = len(items)\n        df.iat[i, df.columns.get_loc('Spas')] = search_items\n    except:\n        hotels = None\n      \n        \ndf.head()"
        }, 
        {
            "execution_count": 79, 
            "cell_type": "code", 
            "metadata": {}, 
            "outputs": [
                {
                    "execution_count": 79, 
                    "metadata": {}, 
                    "data": {
                        "text/html": "<div>\n<style scoped>\n    .dataframe tbody tr th:only-of-type {\n        vertical-align: middle;\n    }\n\n    .dataframe tbody tr th {\n        vertical-align: top;\n    }\n\n    .dataframe thead th {\n        text-align: right;\n    }\n</style>\n<table border=\"1\" class=\"dataframe\">\n  <thead>\n    <tr style=\"text-align: right;\">\n      <th></th>\n      <th>Rank</th>\n      <th>City</th>\n      <th>Population</th>\n      <th>Total area (km2)</th>\n      <th>Population density (/km2)</th>\n      <th>Country</th>\n      <th>Lat</th>\n      <th>Lng</th>\n      <th>Radius</th>\n      <th>Spas</th>\n    </tr>\n  </thead>\n  <tbody>\n    <tr>\n      <th>1</th>\n      <td>1</td>\n      <td>Chongqing</td>\n      <td>30165500</td>\n      <td>82403.00</td>\n      <td>366</td>\n      <td>China</td>\n      <td>29.5586</td>\n      <td>106.549</td>\n      <td>162.0</td>\n      <td>7</td>\n    </tr>\n    <tr>\n      <th>2</th>\n      <td>2</td>\n      <td>Shanghai</td>\n      <td>24183300</td>\n      <td>6340.50</td>\n      <td>3814</td>\n      <td>China</td>\n      <td>31.2253</td>\n      <td>121.489</td>\n      <td>45.0</td>\n      <td>84</td>\n    </tr>\n    <tr>\n      <th>3</th>\n      <td>3</td>\n      <td>Beijing</td>\n      <td>21707000</td>\n      <td>16411.00</td>\n      <td>1267</td>\n      <td>China</td>\n      <td>39.9062</td>\n      <td>116.391</td>\n      <td>72.0</td>\n      <td>18</td>\n    </tr>\n    <tr>\n      <th>4</th>\n      <td>4</td>\n      <td>Istanbul</td>\n      <td>15029231</td>\n      <td>5196.00</td>\n      <td>2893</td>\n      <td>Turkey</td>\n      <td>41.0096</td>\n      <td>28.9652</td>\n      <td>41.0</td>\n      <td>100</td>\n    </tr>\n    <tr>\n      <th>5</th>\n      <td>5</td>\n      <td>Karachi</td>\n      <td>14910352</td>\n      <td>3780.00</td>\n      <td>3944</td>\n      <td>Pakistan</td>\n      <td>25.1447</td>\n      <td>67.1848</td>\n      <td>35.0</td>\n      <td>0</td>\n    </tr>\n    <tr>\n      <th>6</th>\n      <td>6</td>\n      <td>Dhaka</td>\n      <td>14399000</td>\n      <td>337.54</td>\n      <td>42659</td>\n      <td>Bangladesh</td>\n      <td>23.7594</td>\n      <td>90.3788</td>\n      <td>10.0</td>\n      <td>1</td>\n    </tr>\n    <tr>\n      <th>7</th>\n      <td>7</td>\n      <td>Tokyo</td>\n      <td>13515271</td>\n      <td>626.99</td>\n      <td>21556</td>\n      <td>Japan</td>\n      <td>35.6828</td>\n      <td>139.759</td>\n      <td>14.0</td>\n      <td>95</td>\n    </tr>\n    <tr>\n      <th>8</th>\n      <td>8</td>\n      <td>Moscow</td>\n      <td>13200000</td>\n      <td>2511.00</td>\n      <td>5256</td>\n      <td>Russia</td>\n      <td>55.7504</td>\n      <td>37.6175</td>\n      <td>28.0</td>\n      <td>100</td>\n    </tr>\n    <tr>\n      <th>9</th>\n      <td>9</td>\n      <td>Guangzhou</td>\n      <td>13081000</td>\n      <td>7434.00</td>\n      <td>1760</td>\n      <td>China</td>\n      <td>23.1302</td>\n      <td>113.259</td>\n      <td>49.0</td>\n      <td>12</td>\n    </tr>\n    <tr>\n      <th>10</th>\n      <td>10</td>\n      <td>Shenzhen</td>\n      <td>12528300</td>\n      <td>1992.00</td>\n      <td>6889</td>\n      <td>China</td>\n      <td>22.5446</td>\n      <td>114.055</td>\n      <td>25.0</td>\n      <td>19</td>\n    </tr>\n    <tr>\n      <th>11</th>\n      <td>11</td>\n      <td>Mumbai</td>\n      <td>12442373</td>\n      <td>437.71</td>\n      <td>28426</td>\n      <td>India</td>\n      <td>18.9388</td>\n      <td>72.8353</td>\n      <td>12.0</td>\n      <td>14</td>\n    </tr>\n    <tr>\n      <th>12</th>\n      <td>12</td>\n      <td>S\u00e3o Paulo</td>\n      <td>12038000</td>\n      <td>1081.05</td>\n      <td>11199</td>\n      <td>Brazil</td>\n      <td>-23.5507</td>\n      <td>-46.6334</td>\n      <td>19.0</td>\n      <td>100</td>\n    </tr>\n    <tr>\n      <th>13</th>\n      <td>13</td>\n      <td>Kinshasa</td>\n      <td>11462000</td>\n      <td>473.73</td>\n      <td>24195</td>\n      <td>Democratic Republic of the Congo</td>\n      <td>-4.32171</td>\n      <td>15.3126</td>\n      <td>12.0</td>\n      <td>3</td>\n    </tr>\n    <tr>\n      <th>14</th>\n      <td>14</td>\n      <td>Tianjin</td>\n      <td>11249000</td>\n      <td>11920.00</td>\n      <td>944</td>\n      <td>China</td>\n      <td>39.1236</td>\n      <td>117.198</td>\n      <td>62.0</td>\n      <td>2</td>\n    </tr>\n    <tr>\n      <th>15</th>\n      <td>15</td>\n      <td>Lahore</td>\n      <td>11126000</td>\n      <td>502.55</td>\n      <td>22139</td>\n      <td>Pakistan</td>\n      <td>31.5656</td>\n      <td>74.3142</td>\n      <td>13.0</td>\n      <td>3</td>\n    </tr>\n    <tr>\n      <th>16</th>\n      <td>16</td>\n      <td>Delhi</td>\n      <td>11034555</td>\n      <td>461.83</td>\n      <td>23893</td>\n      <td>India</td>\n      <td>28.6517</td>\n      <td>77.2219</td>\n      <td>12.0</td>\n      <td>13</td>\n    </tr>\n    <tr>\n      <th>17</th>\n      <td>17</td>\n      <td>Jakarta</td>\n      <td>10624000</td>\n      <td>661.50</td>\n      <td>16060</td>\n      <td>Indonesia</td>\n      <td>-6.17539</td>\n      <td>106.827</td>\n      <td>15.0</td>\n      <td>100</td>\n    </tr>\n    <tr>\n      <th>18</th>\n      <td>18</td>\n      <td>Dongguan</td>\n      <td>10615000</td>\n      <td>2460.00</td>\n      <td>4315</td>\n      <td>China</td>\n      <td>23.0445</td>\n      <td>113.747</td>\n      <td>28.0</td>\n      <td>2</td>\n    </tr>\n    <tr>\n      <th>19</th>\n      <td>19</td>\n      <td>Seoul</td>\n      <td>9806000</td>\n      <td>605.25</td>\n      <td>16202</td>\n      <td>South Korea</td>\n      <td>37.5667</td>\n      <td>126.978</td>\n      <td>14.0</td>\n      <td>44</td>\n    </tr>\n    <tr>\n      <th>20</th>\n      <td>20</td>\n      <td>Foshan</td>\n      <td>9279000</td>\n      <td>3797.00</td>\n      <td>2444</td>\n      <td>China</td>\n      <td>23.0248</td>\n      <td>113.115</td>\n      <td>35.0</td>\n      <td>2</td>\n    </tr>\n  </tbody>\n</table>\n</div>", 
                        "text/plain": "    Rank       City  Population  Total area (km2)  Population density (/km2)  \\\n1      1  Chongqing    30165500          82403.00                        366   \n2      2   Shanghai    24183300           6340.50                       3814   \n3      3    Beijing    21707000          16411.00                       1267   \n4      4   Istanbul    15029231           5196.00                       2893   \n5      5    Karachi    14910352           3780.00                       3944   \n6      6      Dhaka    14399000            337.54                      42659   \n7      7      Tokyo    13515271            626.99                      21556   \n8      8     Moscow    13200000           2511.00                       5256   \n9      9  Guangzhou    13081000           7434.00                       1760   \n10    10   Shenzhen    12528300           1992.00                       6889   \n11    11     Mumbai    12442373            437.71                      28426   \n12    12  S\u00e3o Paulo    12038000           1081.05                      11199   \n13    13   Kinshasa    11462000            473.73                      24195   \n14    14    Tianjin    11249000          11920.00                        944   \n15    15     Lahore    11126000            502.55                      22139   \n16    16      Delhi    11034555            461.83                      23893   \n17    17    Jakarta    10624000            661.50                      16060   \n18    18   Dongguan    10615000           2460.00                       4315   \n19    19      Seoul     9806000            605.25                      16202   \n20    20     Foshan     9279000           3797.00                       2444   \n\n                             Country      Lat      Lng  Radius Spas  \n1                              China  29.5586  106.549   162.0    7  \n2                              China  31.2253  121.489    45.0   84  \n3                              China  39.9062  116.391    72.0   18  \n4                             Turkey  41.0096  28.9652    41.0  100  \n5                           Pakistan  25.1447  67.1848    35.0    0  \n6                         Bangladesh  23.7594  90.3788    10.0    1  \n7                              Japan  35.6828  139.759    14.0   95  \n8                             Russia  55.7504  37.6175    28.0  100  \n9                              China  23.1302  113.259    49.0   12  \n10                             China  22.5446  114.055    25.0   19  \n11                             India  18.9388  72.8353    12.0   14  \n12                            Brazil -23.5507 -46.6334    19.0  100  \n13  Democratic Republic of the Congo -4.32171  15.3126    12.0    3  \n14                             China  39.1236  117.198    62.0    2  \n15                          Pakistan  31.5656  74.3142    13.0    3  \n16                             India  28.6517  77.2219    12.0   13  \n17                         Indonesia -6.17539  106.827    15.0  100  \n18                             China  23.0445  113.747    28.0    2  \n19                       South Korea  37.5667  126.978    14.0   44  \n20                             China  23.0248  113.115    35.0    2  "
                    }, 
                    "output_type": "execute_result"
                }
            ], 
            "source": "df"
        }, 
        {
            "execution_count": null, 
            "cell_type": "code", 
            "metadata": {}, 
            "outputs": [], 
            "source": ""
        }
    ], 
    "metadata": {
        "kernelspec": {
            "display_name": "Python 3.6", 
            "name": "python3", 
            "language": "python"
        }, 
        "language_info": {
            "mimetype": "text/x-python", 
            "nbconvert_exporter": "python", 
            "version": "3.6.8", 
            "name": "python", 
            "file_extension": ".py", 
            "pygments_lexer": "ipython3", 
            "codemirror_mode": {
                "version": 3, 
                "name": "ipython"
            }
        }
    }, 
    "nbformat": 4
}