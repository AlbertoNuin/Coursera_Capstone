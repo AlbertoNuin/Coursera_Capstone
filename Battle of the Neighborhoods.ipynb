{
    "nbformat_minor": 1, 
    "cells": [
        {
            "source": "# Battle of the Neighborhoods - DRAFT", 
            "cell_type": "markdown", 
            "metadata": {
                "collapsed": true
            }
        }, 
        {
            "execution_count": null, 
            "cell_type": "code", 
            "metadata": {}, 
            "outputs": [], 
            "source": ""
        }, 
        {
            "source": "## Research: List top world cities by population", 
            "cell_type": "markdown", 
            "metadata": {}
        }, 
        {
            "execution_count": 1, 
            "cell_type": "code", 
            "metadata": {}, 
            "outputs": [], 
            "source": "import requests\nfrom bs4 import BeautifulSoup\nimport pandas as pd\nimport numpy as np"
        }, 
        {
            "execution_count": 32, 
            "cell_type": "code", 
            "metadata": {}, 
            "outputs": [
                {
                    "output_type": "stream", 
                    "name": "stdout", 
                    "text": "Dataframe shape:  (86, 6)\n"
                }, 
                {
                    "execution_count": 32, 
                    "metadata": {}, 
                    "data": {
                        "text/html": "<div>\n<style scoped>\n    .dataframe tbody tr th:only-of-type {\n        vertical-align: middle;\n    }\n\n    .dataframe tbody tr th {\n        vertical-align: top;\n    }\n\n    .dataframe thead th {\n        text-align: right;\n    }\n</style>\n<table border=\"1\" class=\"dataframe\">\n  <thead>\n    <tr style=\"text-align: right;\">\n      <th></th>\n      <th>Rank</th>\n      <th>City</th>\n      <th>Population</th>\n      <th>Total area (km2)</th>\n      <th>Population density (/km2)</th>\n      <th>Country</th>\n    </tr>\n  </thead>\n  <tbody>\n    <tr>\n      <th>1</th>\n      <td>1</td>\n      <td>Chongqing</td>\n      <td>30165500</td>\n      <td>82403.0</td>\n      <td>366</td>\n      <td>China</td>\n    </tr>\n    <tr>\n      <th>2</th>\n      <td>2</td>\n      <td>Shanghai</td>\n      <td>24183300</td>\n      <td>6340.5</td>\n      <td>3814</td>\n      <td>China</td>\n    </tr>\n    <tr>\n      <th>3</th>\n      <td>3</td>\n      <td>Beijing</td>\n      <td>21707000</td>\n      <td>16411.0</td>\n      <td>1267</td>\n      <td>China</td>\n    </tr>\n    <tr>\n      <th>4</th>\n      <td>4</td>\n      <td>Istanbul</td>\n      <td>15029231</td>\n      <td>5196.0</td>\n      <td>2893</td>\n      <td>Turkey</td>\n    </tr>\n    <tr>\n      <th>5</th>\n      <td>5</td>\n      <td>Karachi</td>\n      <td>14910352</td>\n      <td>3780.0</td>\n      <td>3944</td>\n      <td>Pakistan</td>\n    </tr>\n  </tbody>\n</table>\n</div>", 
                        "text/plain": "   Rank       City  Population  Total area (km2)  Population density (/km2)  \\\n1     1  Chongqing    30165500           82403.0                        366   \n2     2   Shanghai    24183300            6340.5                       3814   \n3     3    Beijing    21707000           16411.0                       1267   \n4     4   Istanbul    15029231            5196.0                       2893   \n5     5    Karachi    14910352            3780.0                       3944   \n\n    Country  \n1     China  \n2     China  \n3     China  \n4    Turkey  \n5  Pakistan  "
                    }, 
                    "output_type": "execute_result"
                }
            ], 
            "source": "#Parse the list of top world cities by popuylation from Wikipedia and clean data into pandas dataframe\nurl = 'https://en.wikipedia.org/wiki/List_of_cities_proper_by_population'\nsauce = requests.get(url).text\nsoup = BeautifulSoup(sauce, 'lxml')\ntables = [[[td.get_text(strip=True)\n           for td in tr.find_all('td')]\n           for tr in table.find_all('tr')]\n         for table in soup.find_all('table')]\nworld_cities = tables[1]\ndf = pd.DataFrame(world_cities, \n                 columns =['Rank', 'City', 'Image', 'Population', 'Definition', 'Total area (km2)', 'Population density (/km2)', 'Country'])\n#Remove unnecessary row with no values\ndf.drop(df.index[0], inplace=True)\n#Remove unnecessary columns with no useful information\ndf.drop(columns = ['Image', 'Definition'], inplace=True)\n#Remove [references to footnotes] from dataframe using regex\nfor column in df.columns:\n    df[column] = df[column].str.replace(r\"\\[.*]\",\"\")\n#Remove commas from columns containig numbers using regex and convert type to numeric\nNumberColumns = ['Rank', 'Population', 'Total area (km2)', 'Population density (/km2)']\nfor column in NumberColumns:\n    df[column] = pd.to_numeric(df[column].str.replace(\",\",\"\"))\nprint('Dataframe shape: ',df.shape)\ndf.head()"
        }, 
        {
            "execution_count": 33, 
            "cell_type": "code", 
            "metadata": {}, 
            "outputs": [
                {
                    "execution_count": 33, 
                    "metadata": {}, 
                    "data": {
                        "text/plain": "Rank                           int64\nCity                          object\nPopulation                     int64\nTotal area (km2)             float64\nPopulation density (/km2)      int64\nCountry                       object\ndtype: object"
                    }, 
                    "output_type": "execute_result"
                }
            ], 
            "source": "#Find world cities coordinates\n"
        }, 
        {
            "execution_count": null, 
            "cell_type": "code", 
            "metadata": {}, 
            "outputs": [], 
            "source": ""
        }, 
        {
            "execution_count": null, 
            "cell_type": "code", 
            "metadata": {}, 
            "outputs": [], 
            "source": ""
        }, 
        {
            "execution_count": null, 
            "cell_type": "code", 
            "metadata": {}, 
            "outputs": [], 
            "source": ""
        }, 
        {
            "execution_count": null, 
            "cell_type": "code", 
            "metadata": {}, 
            "outputs": [], 
            "source": ""
        }, 
        {
            "execution_count": null, 
            "cell_type": "code", 
            "metadata": {}, 
            "outputs": [], 
            "source": ""
        }
    ], 
    "metadata": {
        "kernelspec": {
            "display_name": "Python 3.6", 
            "name": "python3", 
            "language": "python"
        }, 
        "language_info": {
            "mimetype": "text/x-python", 
            "nbconvert_exporter": "python", 
            "version": "3.6.8", 
            "name": "python", 
            "file_extension": ".py", 
            "pygments_lexer": "ipython3", 
            "codemirror_mode": {
                "version": 3, 
                "name": "ipython"
            }
        }
    }, 
    "nbformat": 4
}